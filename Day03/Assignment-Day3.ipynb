{
 "cells": [
  {
   "cell_type": "markdown",
   "metadata": {},
   "source": [
    "1.Create a numpy array starting from 2 till 50 with a stepsize of 3."
   ]
  },
  {
   "cell_type": "code",
   "execution_count": 1,
   "metadata": {},
   "outputs": [
    {
     "name": "stdout",
     "output_type": "stream",
     "text": [
      "[ 2  5  8 11 14 17 20 23 26 29 32 35 38 41 44 47]\n"
     ]
    }
   ],
   "source": [
    "import numpy as np\n",
    "arr = np.arange(2,50,3)\n",
    "print(arr)"
   ]
  },
  {
   "cell_type": "markdown",
   "metadata": {},
   "source": [
    "2.Accept two lists of 5 elements each from the user.Convert them to numpy arrays. Concatenate these arrays and print it. Also sort these arrays and print it."
   ]
  },
  {
   "cell_type": "code",
   "execution_count": 2,
   "metadata": {},
   "outputs": [
    {
     "name": "stdout",
     "output_type": "stream",
     "text": [
      "2 6 7 9 8\n",
      "1 5 2 3 4 \n",
      "[2 6 7 9 8 1 5 2 3 4]\n",
      "[1 2 2 3 4 5 6 7 8 9]\n"
     ]
    }
   ],
   "source": [
    "\n",
    "arr1,arr2 = (list(map(int,input().split())) for i in range(2))\n",
    "arr1 = np.array(arr1)\n",
    "arr2 = np.array(arr2)\n",
    "print(np.concatenate((arr1,arr2)))\n",
    "print(np.sort(np.concatenate((arr1,arr2))))"
   ]
  },
  {
   "cell_type": "markdown",
   "metadata": {},
   "source": [
    "3.Write a code snippet to find the dimensions of a ndarray and its size."
   ]
  },
  {
   "cell_type": "code",
   "execution_count": 5,
   "metadata": {},
   "outputs": [
    {
     "name": "stdout",
     "output_type": "stream",
     "text": [
      "(2, 2) 4\n"
     ]
    }
   ],
   "source": [
    "\n",
    "arr = np.array([ [1,2] , [4,5]  ])\n",
    "print(arr.shape,arr.size)"
   ]
  },
  {
   "cell_type": "markdown",
   "metadata": {},
   "source": [
    "4.How to convert a 1D array into a 2D array? Demonstrate with the help of a code snippet Hint: np.newaxis, np.expand_dims"
   ]
  },
  {
   "cell_type": "code",
   "execution_count": 8,
   "metadata": {},
   "outputs": [
    {
     "name": "stdout",
     "output_type": "stream",
     "text": [
      "1D array  : [1 2 3 4 5 6 7 8]\n",
      "1D array shape : (8,)\n",
      "2D array  : [[1 2 3 4 5 6 7 8]]\n",
      "After converting 1D array into  2D array the shape : (1, 8)\n"
     ]
    }
   ],
   "source": [
    "import numpy as np\n",
    "x= np.array([1, 2, 3, 4, 5, 6,7,8])\n",
    "print(\"1D array  :\",x)\n",
    "print(\"1D array shape :\",x.shape)\n",
    "\n",
    "y = x[np.newaxis, :]\n",
    "print(\"2D array  :\",y)\n",
    "print(\"After converting 1D array into  2D array the shape :\",y.shape)"
   ]
  },
  {
   "cell_type": "markdown",
   "metadata": {},
   "source": [
    "5.Consider two square numpy arrays. Stack them vertically and horizontally.Hint: Use vstack(), hstack()"
   ]
  },
  {
   "cell_type": "code",
   "execution_count": 10,
   "metadata": {},
   "outputs": [
    {
     "name": "stdout",
     "output_type": "stream",
     "text": [
      " vertically [[1 1 1]\n",
      " [2 2 2]\n",
      " [3 3 3]\n",
      " [4 4 4]\n",
      " [5 5 5]\n",
      " [6 6 6]]\n",
      "horizontally [[1 1 1 4 4 4]\n",
      " [2 2 2 5 5 5]\n",
      " [3 3 3 6 6 6]]\n"
     ]
    }
   ],
   "source": [
    "arr1 = np.array([ [1,1,1] , [2,2,2] , [3,3,3] ])\n",
    "arr2 = np.array([ [4,4,4] , [5,5,5] , [6,6,6] ])\n",
    "print(\" vertically\",np.vstack((arr1,arr2))) # Stack the arrays in a row-wise sequence\n",
    "\n",
    "print(\"horizontally\",np.hstack((arr1,arr2))) # Stack the arrays in a column-wise sequence"
   ]
  },
  {
   "cell_type": "markdown",
   "metadata": {},
   "source": [
    " 6.How to get unique items and counts of unique items?"
   ]
  },
  {
   "cell_type": "code",
   "execution_count": 13,
   "metadata": {},
   "outputs": [
    {
     "name": "stdout",
     "output_type": "stream",
     "text": [
      "unique items : [0 1 2 3 4 6 7]\n",
      "counts of unique items : 7\n"
     ]
    }
   ],
   "source": [
    "import numpy as np\n",
    "a=np.unique([0,1,2,0,2,3,4,3,6,7])\n",
    "print(\"unique items :\",a)\n",
    "print(\"counts of unique items :\",len(a))\n"
   ]
  },
  {
   "cell_type": "code",
   "execution_count": null,
   "metadata": {},
   "outputs": [],
   "source": []
  }
 ],
 "metadata": {
  "kernelspec": {
   "display_name": "Python 3",
   "language": "python",
   "name": "python3"
  },
  "language_info": {
   "codemirror_mode": {
    "name": "ipython",
    "version": 3
   },
   "file_extension": ".py",
   "mimetype": "text/x-python",
   "name": "python",
   "nbconvert_exporter": "python",
   "pygments_lexer": "ipython3",
   "version": "3.7.6"
  },
  "toc": {
   "base_numbering": 1,
   "nav_menu": {},
   "number_sections": true,
   "sideBar": true,
   "skip_h1_title": false,
   "title_cell": "Table of Contents",
   "title_sidebar": "Contents",
   "toc_cell": false,
   "toc_position": {},
   "toc_section_display": true,
   "toc_window_display": false
  }
 },
 "nbformat": 4,
 "nbformat_minor": 4
}
