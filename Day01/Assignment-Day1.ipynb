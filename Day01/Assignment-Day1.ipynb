{
 "cells": [
  {
   "cell_type": "markdown",
   "metadata": {},
   "source": [
    "1.\n",
    "Given the following jumbled word, OBANWRI guess the correct English word.\n",
    "A. RANIBOW\n",
    "B. RAINBOW\n",
    "C. BOWRANI\n",
    "D. ROBWANI\n",
    "\n",
    "Ans:A,B"
   ]
  },
  {
   "cell_type": "code",
   "execution_count": 3,
   "metadata": {},
   "outputs": [
    {
     "name": "stdout",
     "output_type": "stream",
     "text": [
      "The out put is  LETS UPGRADE\n"
     ]
    }
   ],
   "source": [
    "#2.\n",
    "input = \"Lets Upgrade\"\n",
    "print(\"The out put is \",input.upper())"
   ]
  },
  {
   "cell_type": "code",
   "execution_count": 1,
   "metadata": {},
   "outputs": [
    {
     "name": "stdout",
     "output_type": "stream",
     "text": [
      " Please Enter the  cost price: 45\n",
      " Please Enter the selling price: 45\n",
      "Neither\n"
     ]
    }
   ],
   "source": [
    "# 3:\n",
    "\n",
    "cost_price = int(input(\" Please Enter the  cost price: \"))\n",
    "selling_price = int(input(\" Please Enter the selling price: \"))\n",
    " \n",
    "if(cost_price > selling_price):\n",
    "    amount = cost_price - selling_price\n",
    "    print(\"The Transaction is Loss\")\n",
    "elif(selling_price > cost_price):\n",
    "    amount = selling_price - cost_price\n",
    "    print(\"The Transaction is Profit.\")\n",
    "else:\n",
    "    print(\"Neither\")"
   ]
  },
  {
   "cell_type": "code",
   "execution_count": 2,
   "metadata": {},
   "outputs": [
    {
     "name": "stdout",
     "output_type": "stream",
     "text": [
      "22\n",
      "56\n",
      "Profit\n"
     ]
    }
   ],
   "source": [
    "#4:\n",
    "\n",
    "cost_price = int(input())\n",
    "selling_price = int(input())\n",
    " \n",
    "if(cost_price > selling_price):\n",
    "    amount = cost_price - selling_price\n",
    "    print(\"Loss\")\n",
    "elif(selling_price > cost_price):\n",
    "    amount = selling_price - cost_price\n",
    "    print(\"Profit\")\n",
    "else:\n",
    "    print(\"Neither\")"
   ]
  },
  {
   "cell_type": "code",
   "execution_count": 3,
   "metadata": {},
   "outputs": [
    {
     "name": "stdout",
     "output_type": "stream",
     "text": [
      "20\n",
      "1600\n"
     ]
    }
   ],
   "source": [
    "# 5:\n",
    "\n",
    "\n",
    "indian_rupees=int(input())\n",
    "euro=80*indian_rupees\n",
    "print(euro)"
   ]
  },
  {
   "cell_type": "code",
   "execution_count": null,
   "metadata": {},
   "outputs": [],
   "source": []
  }
 ],
 "metadata": {
  "kernelspec": {
   "display_name": "Python 3",
   "language": "python",
   "name": "python3"
  },
  "language_info": {
   "codemirror_mode": {
    "name": "ipython",
    "version": 3
   },
   "file_extension": ".py",
   "mimetype": "text/x-python",
   "name": "python",
   "nbconvert_exporter": "python",
   "pygments_lexer": "ipython3",
   "version": "3.7.6"
  },
  "toc": {
   "base_numbering": 1,
   "nav_menu": {},
   "number_sections": true,
   "sideBar": true,
   "skip_h1_title": false,
   "title_cell": "Table of Contents",
   "title_sidebar": "Contents",
   "toc_cell": false,
   "toc_position": {},
   "toc_section_display": true,
   "toc_window_display": false
  }
 },
 "nbformat": 4,
 "nbformat_minor": 4
}
